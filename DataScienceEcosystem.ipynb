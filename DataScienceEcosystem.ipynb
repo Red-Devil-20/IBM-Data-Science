{
  "metadata": {
    "language_info": {
      "codemirror_mode": {
        "name": "python",
        "version": 3
      },
      "file_extension": ".py",
      "mimetype": "text/x-python",
      "name": "python",
      "nbconvert_exporter": "python",
      "pygments_lexer": "ipython3",
      "version": "3.8"
    },
    "kernelspec": {
      "name": "python",
      "display_name": "Python (Pyodide)",
      "language": "python"
    }
  },
  "nbformat_minor": 4,
  "nbformat": 4,
  "cells": [
    {
      "cell_type": "markdown",
      "source": "# __Exercise 1: Please see notebook name above__",
      "metadata": {}
    },
    {
      "cell_type": "markdown",
      "source": "# __Exercise 2: Create markdown cell with title of the notebook - code and output below__",
      "metadata": {}
    },
    {
      "cell_type": "markdown",
      "source": "# H1 Data Science Tools and Ecosystem",
      "metadata": {}
    },
    {
      "cell_type": "markdown",
      "source": "# __Exercise 3: Create a markdown cell for an introduction__",
      "metadata": {}
    },
    {
      "cell_type": "markdown",
      "source": "In this notebook, Data Science Tools and Ecosystem are summarized.",
      "metadata": {}
    },
    {
      "cell_type": "markdown",
      "source": "__Objectives:__",
      "metadata": {}
    },
    {
      "cell_type": "markdown",
      "source": "* List popular languages for Data Science\n* List popular Data Science libraries\n* Calculating arithmetic expressions\n* List popular Data Science tools\n* Get hands-on exercise with Jupyter Notebook",
      "metadata": {}
    },
    {
      "cell_type": "markdown",
      "source": "# __Exercise 4 - Create a markdown cell to list data science languages__",
      "metadata": {}
    },
    {
      "cell_type": "markdown",
      "source": "Some of the popular languages that Data Scientists use are:",
      "metadata": {}
    },
    {
      "cell_type": "markdown",
      "source": "1. R\n2. Python\n3. SQL",
      "metadata": {}
    },
    {
      "cell_type": "code",
      "source": "",
      "metadata": {},
      "execution_count": null,
      "outputs": []
    },
    {
      "cell_type": "markdown",
      "source": "# __Exercise 5 - Create a markdown cell to list data science libraries__",
      "metadata": {}
    },
    {
      "cell_type": "markdown",
      "source": "Some of the commonly used libraries used by Data Scientists include:",
      "metadata": {}
    },
    {
      "cell_type": "markdown",
      "source": "1. Pandas\n2. Scikit-learn\n3. TensorFlow",
      "metadata": {}
    },
    {
      "cell_type": "markdown",
      "source": "# __Exercise 6 - Create a markdown cell with a table of Data Science tools__",
      "metadata": {}
    },
    {
      "cell_type": "markdown",
      "source": "| Data Science Tools|\n| --- |\n| Jupyter Notebooks |\n| Weka | \n| RStudio |",
      "metadata": {}
    },
    {
      "cell_type": "markdown",
      "source": "# __Exercise 7 - Create a markdown cell introducing arithmetic expression examples__",
      "metadata": {}
    },
    {
      "cell_type": "markdown",
      "source": "### Below are a few examples of evaluating arithmetic expressions in Python",
      "metadata": {}
    },
    {
      "cell_type": "markdown",
      "source": "# __Exercise 8 - Create a code cell to multiply and add numbers__",
      "metadata": {}
    },
    {
      "cell_type": "code",
      "source": "#This a simple arithmetic expression to mutiply then add integers#\n(3*4)+5",
      "metadata": {
        "trusted": true
      },
      "execution_count": 7,
      "outputs": [
        {
          "execution_count": 7,
          "output_type": "execute_result",
          "data": {
            "text/plain": "17"
          },
          "metadata": {}
        }
      ]
    },
    {
      "cell_type": "code",
      "source": "",
      "metadata": {},
      "execution_count": null,
      "outputs": []
    },
    {
      "cell_type": "markdown",
      "source": "# __Exercise 9 - Create a code cell to convert minutes to hours__",
      "metadata": {}
    },
    {
      "cell_type": "code",
      "source": "# This will convert 200 minutes to hours by diving by 60#\n200/6",
      "metadata": {
        "trusted": true
      },
      "execution_count": 8,
      "outputs": [
        {
          "execution_count": 8,
          "output_type": "execute_result",
          "data": {
            "text/plain": "33.333333333333336"
          },
          "metadata": {}
        }
      ]
    },
    {
      "cell_type": "markdown",
      "source": "# __Exercise 11 - Create a markdown cell to indicate the Author's name__",
      "metadata": {}
    },
    {
      "cell_type": "markdown",
      "source": "## Author\nJatin Negi",
      "metadata": {}
    },
    {
      "cell_type": "code",
      "source": "",
      "metadata": {},
      "execution_count": null,
      "outputs": []
    }
  ]
}